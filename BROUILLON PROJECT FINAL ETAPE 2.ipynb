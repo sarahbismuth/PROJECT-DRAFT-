{
 "cells": [
  {
   "attachments": {},
   "cell_type": "markdown",
   "metadata": {},
   "source": [
    "Gun ownership is a right in the United State constitution .Indeed American own more guns per capita than residents of any other countries, gun Homicide rates are much higher than the rest of the world, and we can observe  an increase of the frequency of mass shooting(How US gun culture compares with the world, CNN).\n",
    "Other the years Gun control was and is a politically mitigate  topic, with people having different strong opinion on it. Whever we are talking about Homicide ,Suicide or mass shooting the shooters profile are diverse, some are young, some have mental illness or some have gun experience and training, which make difficult to target a specific category of massive gun shooter in order to stop them. Moreover whever they are victim themselves  or someone close to them, or shooter young are extremely affected by this gun violence ,Among the world's wealthy nations, the United States accounts for 91 percent of all firearm deaths of children younger than 15(The Wshington post),with a majority of mass shooting occurring in school and university, places where youth are supposed to be safe. Thus, this liberty of having a gun in the US can create a complete disequilibrium in the life of US citizen, and must be a subject to look at carefully.\n",
    "\n"
   ]
  },
  {
   "cell_type": "markdown",
   "metadata": {},
   "source": [
    "What are the more popular profile of shooter and how youth are affected by the shooting in the US?\n",
    "\n",
    "The results of this research would first able authorities to better targeted who are susceptible to use their gun in a wrong way ,for instance we could create test that they have to succeed before being able to buy a gun. Furthermore, analyzing these data can raise  awareness to different level; awareness of the government in order to control this liberty and the right of the gun control, awareness that things must change, that for the youth it is an unhealthy way of being raised. The result can also be implemented in the real world in order to find solution for the youth to be less affected by this phenomenon."
   ]
  },
  {
   "cell_type": "markdown",
   "metadata": {},
   "source": [
    "The first sources of my data will be a csv fil acquire on Kaggle that is called Stanford Mass Shootings in America (https://www.kaggle.com/carlosparadis/stanford-msa/version/1) .I will use these data converting it into a data Frame in Python. \n",
    "The second source of data is an article called \"The Impact of Gun Violence on Children and Teens\"(https://everytownresearch.org/impact-gun-violence-american-children-teens/), in order to collect the data of this article  will use Web scrapping.\n"
   ]
  },
  {
   "cell_type": "markdown",
   "metadata": {},
   "source": [
    "I will attempt to create a geoplot of the United State to have a visualization of the mass shooting in the different state of the United state.\n",
    "Then we will do many calculations in order to have information about the shooter and the youth that are  affected.\n",
    "We will compute the average of the average  age of the shooter, we will compute the count of the sex of the shooter to see if there is a greater tendency of male or female shooter.\n",
    "We will see if there is a relationship between the number of victims and the military experience, display a scatter plot.\n",
    "compute the average of victim for each state.\n",
    "Create a new column called youth shooter that will display only the shooter that are less than 21, and display a bar char of the true and false value to see the proportion.\n",
    "Finnaly I am going to use a  decison tree that will be usefull in order to have an eyes on who  should be the type of people we should keep an eyes on when they are buying a gun and who are the people that are impacted by mass shooting. "
   ]
  },
  {
   "cell_type": "markdown",
   "metadata": {},
   "source": [
    "Links for the research of the subject.\n",
    "\n",
    "https://www.washingtonpost.com/news/wonk/wp/2018/03/23/more-than-26000-children-and-teens-have-been-killed-in-gun-violence-since-1999/\n",
    "\n",
    "https://www.cnn.com/2017/10/03/americas/us-gun-statistics/index.html\n",
    "https://www.bbc.com/news/world-us-canada-41488081\n"
   ]
  }
 ],
 "metadata": {
  "kernelspec": {
   "display_name": "Python 3",
   "language": "python",
   "name": "python3"
  },
  "language_info": {
   "codemirror_mode": {
    "name": "ipython",
    "version": 3
   },
   "file_extension": ".py",
   "mimetype": "text/x-python",
   "name": "python",
   "nbconvert_exporter": "python",
   "pygments_lexer": "ipython3",
   "version": "3.7.3"
  }
 },
 "nbformat": 4,
 "nbformat_minor": 2
}
